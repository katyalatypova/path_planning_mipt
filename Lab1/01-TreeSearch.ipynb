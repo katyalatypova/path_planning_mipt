{
 "cells": [
  {
   "cell_type": "markdown",
   "metadata": {},
   "source": [
    "# Uninformed Tree Search Without Duplicate Detection\n",
    "In this lab you are going to implement basic tree-search methods (without duplicate states detection) - BFS (Breadth First Search), DFS (Depth First Search), DFS-L (Depth First Search with Limited Depth), DFID (Depth First Iterative Deepening).\n",
    "\n",
    "Two widespread domains will be considered - 15-puzzle and Panckakes. For 15-puzzle the code that defines the state and the getSuccesors function is already available. For Panckakes - you have to code it yourself. All search methods have to be coded by you as well, using the code stubs provided.\n",
    "\n",
    "Run every cell of the notebook and complete the described tasks. Good luck!"
   ]
  },
  {
   "cell_type": "code",
   "execution_count": 1,
   "metadata": {
    "ExecuteTime": {
     "end_time": "2021-02-17T10:11:18.846891Z",
     "start_time": "2021-02-17T10:11:18.840615Z"
    }
   },
   "outputs": [],
   "source": [
    "import copy\n",
    "\n",
    "from collections import deque, defaultdict"
   ]
  },
  {
   "cell_type": "markdown",
   "metadata": {},
   "source": [
    "# Gem Puzzle (15-puzzle or n-puzzle)\n",
    "The 15-puzzle (also called Gem Puzzle, Boss Puzzle, Game of Fifteen, Mystic Square and many others) is a sliding puzzle that consists of a frame of numbered square tiles in random order with one tile missing (see picture below). The puzzle also exists in other sizes, particularly the smaller 8-puzzle. If the size is 3×3 tiles, the puzzle is called the 8-puzzle or 9-puzzle, and if 4×4 tiles, the puzzle is called the 15-puzzle or 16-puzzle named, respectively, for the number of tiles and the number of spaces. The object of the puzzle is to place the tiles in order by making sliding moves that use the empty space. Note, that half of the starting positions for the n-puzzle are impossible to resolve, no matter how many moves are made. [[Wikipedia](https://en.wikipedia.org/wiki/15_puzzle)]. "
   ]
  },
  {
   "cell_type": "markdown",
   "metadata": {
    "tags": []
   },
   "source": [
    "![puzzle](Image/GemPuzzle.png)"
   ]
  },
  {
   "cell_type": "markdown",
   "metadata": {},
   "source": [
    "## Representation of a search state for the Gem Puzzle\n",
    "\n",
    "Implementing SearchState (or simply - State) in code is a very important first step needed to tackle any search problem.\n",
    "\n",
    "The suggested implementation (not the only one possible, obviously) of the GemPuzzleState is comprised of the following fields: \n",
    "- size - width of game field \n",
    "- tileList - tile positions represented as a list of integers. This list is expected to contain values from 1 to *size* * *size*. Each integer value corresponds to a tile and the position in the list (index) corresponds to the position of the tile on the game field. Tile with the value *size* * *size* is assumed to represent blank position.\n",
    "- parent - pointer to the parent-state. Parent is a predecessor of the state in the search-tree. It is used to reconstrruct a path to that state from the start state (root of the search tree).\n",
    "- blankPos - position of empty tile in tileList. Explicitly storing the position of a blank helps to generate successors faster.\n",
    "\n"
   ]
  },
  {
   "cell_type": "code",
   "execution_count": 53,
   "metadata": {
    "ExecuteTime": {
     "end_time": "2021-02-17T10:19:23.628942Z",
     "start_time": "2021-02-17T10:19:23.603391Z"
    }
   },
   "outputs": [],
   "source": [
    "class GemPuzzleState:\n",
    "\n",
    "    # Constructor. Sets tile positions + some basic checks.\n",
    "    def __init__(self, tileList):\n",
    "        self.tileList = tileList\n",
    "        self.size = int(len(tileList) ** 0.5)\n",
    "        blankValue = self.size ** 2\n",
    "        if (blankValue != len(tileList)):\n",
    "            raise Exception(\"The tile list must contain the number of elements which is equal to the square of an integer!\")\n",
    "\n",
    "        # Memorizing the position of a blank tile\n",
    "        # Technically, there is no need to do so, but it makes to get the successors a bit faster\n",
    "        self.blankPos = -1 \n",
    "        for i in enumerate(tileList):\n",
    "            if (i[1] == blankValue):\n",
    "                self.blankPos = i[0]\n",
    "\n",
    "                \n",
    "        if (self.blankPos == -1):\n",
    "            raise Exception(\"State should contains max value as position to blank tile\")     \n",
    "        \n",
    "        # The parent state (predecessor in the search tree) will be set up by the search algorithm.\n",
    "        self.parent = None\n",
    "       \n",
    "    # Comparing one state with the other state. This is needed e.g. to test whether we reached the goal state.\n",
    "    def __eq__(self, other):\n",
    "        for i in enumerate(self.tileList):\n",
    "            if i[1] != other.tileList[i[0]]:\n",
    "                return False\n",
    "        return True\n",
    "\n",
    "\n",
    "    # Printing the state as tile matrix\n",
    "    def Print(self):\n",
    "        res = []\n",
    "        charTileList = list(map(str, self.tileList))\n",
    "        charTileList[self.blankPos] = '_'\n",
    "        for rowStart in range(0, len(charTileList), self.size):\n",
    "            res.append(charTileList[rowStart:rowStart+self.size])\n",
    "        print()\n",
    "        print('\\n'.join([''.join(['{:2}'.format(item) for item in row]) \n",
    "            for row in res]))\n",
    "        # added this return to use it in __repr__ for built-in print\n",
    "        return '\\n'.join([''.join(['{:2}'.format(item) for item in row]) \n",
    "            for row in res])\n",
    "    \n",
    "    def __repr__(self):\n",
    "        return self.Print()\n"
   ]
  },
  {
   "cell_type": "markdown",
   "metadata": {},
   "source": [
    "### Get Succesors\n",
    "Implementing GetSuccessors function is another important step to tackle any search problem.\n",
    "\n",
    "This function is presumed to take a particular search state as the input and to return all possible succesors states. i.e. the ones that result from applying all applicable actions to the input state. \n",
    "\n",
    "In case of GemPuzzle the succesors correspond to the board states resulting from moving blank up/down/left/right. If blank goes out of the field after a move, such successor should obviously be discarded."
   ]
  },
  {
   "cell_type": "code",
   "execution_count": 41,
   "metadata": {
    "ExecuteTime": {
     "end_time": "2021-02-17T10:16:35.591204Z",
     "start_time": "2021-02-17T10:16:35.574970Z"
    }
   },
   "outputs": [],
   "source": [
    "def GetSuccessors(state):\n",
    "    delta = [[0, 1], [1, 0], [0, -1], [-1, 0]]\n",
    "    successors = []\n",
    "    for d in delta:\n",
    "        row = state.blankPos // state.size #identifying the row in which blank is located\n",
    "        col = state.blankPos % state.size #identifying the column in which blank is located\n",
    "        row += d[0] #computing new row for blank (corresponding to a particular move encoded via 'd')\n",
    "        col += d[1] #computing new column for blank (corresponding to a particular move encoded via 'd')\n",
    "        \n",
    "        #if the new position of a blank is valid (i.e. it is still within the field) then\n",
    "        #a corresponding sucessor should be added to the succesors' list\n",
    "        if (0 <= row < state.size) and (0 <= col < state.size):\n",
    "            newState = copy.deepcopy(state)\n",
    "            newState.visited = False\n",
    "            newBlankPos = row * state.size + col\n",
    "            newState.tileList[newState.blankPos] = newState.tileList[newBlankPos] #moving tile\n",
    "            newState.tileList[newBlankPos] = newState.size ** 2 #setting blank\n",
    "            newState.blankPos = newBlankPos\n",
    "            newState.parent = state\n",
    "            successors.append(newState)\n",
    "\n",
    "    return successors"
   ]
  },
  {
   "cell_type": "markdown",
   "metadata": {},
   "source": [
    "### Goal check\n",
    "\n",
    "Handy function that returns `True` if the input `state` corresponds to the goal one (i.e. all tiles are in their places), and `False` otherwise"
   ]
  },
  {
   "cell_type": "code",
   "execution_count": 42,
   "metadata": {
    "ExecuteTime": {
     "end_time": "2021-02-17T10:16:36.097126Z",
     "start_time": "2021-02-17T10:16:36.094241Z"
    }
   },
   "outputs": [],
   "source": [
    "def StateIsGoal(state):\n",
    "    for i in range(1, len(state.tileList)):\n",
    "        if(state.tileList[i-1] > state.tileList[i]):\n",
    "            return False\n",
    "    return True"
   ]
  },
  {
   "cell_type": "markdown",
   "metadata": {},
   "source": [
    "### Path checking\n",
    "Auxiliary function that takes the `lastState` and checks whether this state is a goal. If yes, it unwinds the path using the backpointers and checks whether each successor is reachable from its predecessor."
   ]
  },
  {
   "cell_type": "code",
   "execution_count": 43,
   "metadata": {
    "ExecuteTime": {
     "end_time": "2021-02-17T10:16:37.397210Z",
     "start_time": "2021-02-17T10:16:37.393884Z"
    }
   },
   "outputs": [],
   "source": [
    "def CheckPath(lastState):\n",
    "        curr = lastState\n",
    "        if not StateIsGoal(curr):\n",
    "            print(\"Goal was not reached!\")\n",
    "            return False\n",
    "\n",
    "        while(curr.parent is not None):\n",
    "            prev = curr.parent\n",
    "            if (curr not in GetSuccessors(prev)):\n",
    "                print(\"Unacceptable step!\")\n",
    "                return False                \n",
    "            curr = prev\n",
    "        return True"
   ]
  },
  {
   "cell_type": "markdown",
   "metadata": {},
   "source": [
    "### Path unwinding\n",
    "Typically the paths are not stored within a search explicitly, but rather implicitly via the parent pointers (pointing to the predecessor in the search tree). Thus, when we reach the goal state and want to reconstruct the whole path we need to trace the parent pointers back to the root of the tree.\n",
    "\n",
    "Technically this function takes a state `lastState` as an input and returns a path to this state from the root of the tree."
   ]
  },
  {
   "cell_type": "code",
   "execution_count": 44,
   "metadata": {
    "ExecuteTime": {
     "end_time": "2021-02-17T10:16:37.878888Z",
     "start_time": "2021-02-17T10:16:37.868363Z"
    }
   },
   "outputs": [],
   "source": [
    "def GetPath(lastState):\n",
    "    path = []\n",
    "    curr = lastState\n",
    "    while curr is not None:\n",
    "        path.append(curr)\n",
    "        curr = curr.parent\n",
    "    return path\n"
   ]
  },
  {
   "cell_type": "markdown",
   "metadata": {},
   "source": [
    "## Automated tests to check the implementations of the search algorithms\n",
    "When you finish implementing search algorithms you need to test them, right? The following functions will help you in that. They take your search algorithm as an input and run it on a single simple test (`SimpleTest`) and on a series of a more involved test (`MassiveTest`).\n",
    "\n",
    "These automated tests assume that the seach function, passed as the input, has the following structure:\n",
    "\n",
    "`SearchFunction(startState, *optional arguments*) -> (pathFound, lastState)`, where\n",
    "\n",
    "- startState -- initial state\n",
    "- *optional arguments* -- additional parameters of the search function (if needed), passed via `*args`\n",
    "- pathFound -- result of the search, `True` if path was found, `False` otherwise\n",
    "- lastState -- last state of path. `None` if path was not found"
   ]
  },
  {
   "cell_type": "markdown",
   "metadata": {},
   "source": [
    "SimpleTest runs `SearchFunction` on a simple 2x2 sliding puzzle instance (encoded as [3, 1, 2, 4]).\n",
    "\n",
    "The output is as follows:\n",
    "- 'Path is OK' and list of states of path -- path was found and it is correct\n",
    "- 'Path is not OK(' -- path was found but it is not correct \n",
    "- 'Path not found(' -- path was not found \n",
    "- 'Execution error' -- an error occurred while executing the `SearchFunction` or path validation function"
   ]
  },
  {
   "cell_type": "code",
   "execution_count": 45,
   "metadata": {
    "ExecuteTime": {
     "end_time": "2021-02-17T10:16:38.794098Z",
     "start_time": "2021-02-17T10:16:38.780392Z"
    }
   },
   "outputs": [],
   "source": [
    "def SimpleTest(SearchFunction, *args):\n",
    "    startState = GemPuzzleState([3,1,2,4])\n",
    "    try:\n",
    "        result = SearchFunction(startState, *args)\n",
    "        curr = result[1]\n",
    "        if(result[0]):\n",
    "            if(CheckPath(curr)):\n",
    "                print(\"Path is OK!\")\n",
    "                path = GetPath(result[1])\n",
    "\n",
    "                while len(path) != 0:\n",
    "                    s = path.pop()\n",
    "                    s.Print()\n",
    "            else:\n",
    "                print(\"Path is not OK(\")\n",
    "        else:\n",
    "            print(\"Path not found(\")\n",
    "    except Exception as e:\n",
    "        print(\"Execution error\")\n",
    "        print(e)"
   ]
  },
  {
   "cell_type": "markdown",
   "metadata": {},
   "source": [
    "MassiveTest runs `SearchFunction` on set of different tasks (stored in `Data/taskGem.txt`). Initially this file contains 4 different 2x2 sliding puzzle instances and 4 different 3x3 sliding puzzle instances (you can add more if you want).\n",
    "\n",
    "The output is similar to `SimpleTest` (however the full paths for solved instances are not displayed):\n",
    "\n",
    "- 'Path is OK' -- path was found and it is correct\n",
    "- 'Path os not OK(' -- path was found but it is not correct \n",
    "- 'Path not found(' -- path was not found\n",
    "- 'Execution error' -- an error occurred  while executing the `SearchFunction` or path validation function\n",
    " "
   ]
  },
  {
   "cell_type": "code",
   "execution_count": 46,
   "metadata": {
    "ExecuteTime": {
     "end_time": "2021-02-17T10:16:39.840931Z",
     "start_time": "2021-02-17T10:16:39.830817Z"
    }
   },
   "outputs": [],
   "source": [
    "def MassiveTest(SearchFunction, *args):\n",
    "    tasksFile = open('Data/tasksGem.txt')\n",
    "    count = 0\n",
    "    for l in tasksFile:\n",
    "        count += 1\n",
    "        state = list(map(int, l.split()))\n",
    "        task = GemPuzzleState(state)\n",
    "        try:\n",
    "            result = SearchFunction(task, *args)\n",
    "            curr = result[1]\n",
    "            if(result[0]):\n",
    "                if(CheckPath(curr)):\n",
    "                    print(count, \"Path is OK!\")\n",
    "                else:\n",
    "                    print(count, \"Path is not OK(\")\n",
    "            else:\n",
    "                print(count, \"Path not found(\")\n",
    "        except Exception as e:\n",
    "            print(count, \"Execution error\")\n",
    "            print(e)\n",
    "        "
   ]
  },
  {
   "cell_type": "markdown",
   "metadata": {},
   "source": [
    "## Breadth-First Search (BFS)"
   ]
  },
  {
   "cell_type": "code",
   "execution_count": 51,
   "metadata": {
    "ExecuteTime": {
     "end_time": "2021-02-17T10:17:19.272046Z",
     "start_time": "2021-02-17T10:17:19.261954Z"
    },
    "tags": []
   },
   "outputs": [],
   "source": [
    "# TODO Implementation of Breadth-First Search algorithm\n",
    "\n",
    "def BFS(start):\n",
    "    pathFound = False\n",
    "    resState = None\n",
    "    \n",
    "    #CODE HERE\n",
    "    queue = deque([start])\n",
    "    while queue:\n",
    "        state = queue.popleft()\n",
    "        if StateIsGoal(state):\n",
    "            return (True, state)\n",
    "        for successor in GetSuccessors(state):\n",
    "            successor.parent = state\n",
    "            queue.append(successor)\n",
    "    \n",
    "    return (pathFound, resState)\n"
   ]
  },
  {
   "cell_type": "code",
   "execution_count": 52,
   "metadata": {
    "ExecuteTime": {
     "end_time": "2021-02-17T10:17:19.794401Z",
     "start_time": "2021-02-17T10:17:19.771128Z"
    },
    "tags": []
   },
   "outputs": [
    {
     "name": "stdout",
     "output_type": "stream",
     "text": [
      "Path is OK!\n",
      "\n",
      "3 1 \n",
      "2 _ \n",
      "\n",
      "3 1 \n",
      "_ 2 \n",
      "\n",
      "_ 1 \n",
      "3 2 \n",
      "\n",
      "1 _ \n",
      "3 2 \n",
      "\n",
      "1 2 \n",
      "3 _ \n"
     ]
    }
   ],
   "source": [
    "# Test your BFS on simple task\n",
    "SimpleTest(BFS)"
   ]
  },
  {
   "cell_type": "code",
   "execution_count": 11,
   "metadata": {
    "ExecuteTime": {
     "end_time": "2021-02-17T10:11:27.350015Z",
     "start_time": "2021-02-17T10:11:26.642625Z"
    },
    "tags": []
   },
   "outputs": [
    {
     "name": "stdout",
     "output_type": "stream",
     "text": [
      "1 Path is OK!\n",
      "2 Path is OK!\n",
      "3 Path is OK!\n",
      "4 Path is OK!\n",
      "5 Path is OK!\n",
      "6 Path is OK!\n",
      "7 Path is OK!\n",
      "8 Path is OK!\n"
     ]
    }
   ],
   "source": [
    "# If simple test is OK, you should check your implementation in massive test. The rest of the search algorithms are checked in the same way.\n",
    "MassiveTest(BFS)"
   ]
  },
  {
   "cell_type": "markdown",
   "metadata": {},
   "source": [
    "## Depth-First Search (DFS)"
   ]
  },
  {
   "cell_type": "code",
   "execution_count": 17,
   "metadata": {
    "ExecuteTime": {
     "end_time": "2021-02-17T10:12:08.092162Z",
     "start_time": "2021-02-17T10:12:08.081374Z"
    }
   },
   "outputs": [],
   "source": [
    "# TODO Implementation of Depth-First Search algorithm\n",
    "\n",
    "# def DFS(start):\n",
    "\n",
    "#     #CODE HERE\n",
    "#     stack = []\n",
    "#     stack.append(start)\n",
    "    \n",
    "#     while stack:\n",
    "#         state = stack.pop()\n",
    "        \n",
    "#         if StateIsGoal(state):\n",
    "#             return (True, state)\n",
    "        \n",
    "#         for successor in reversed(GetSuccessors(state)):\n",
    "#             successor.parent = state\n",
    "#             stack.append(successor)\n",
    "            \n",
    "#     return (False, None)\n",
    "\n",
    "def DFS(state):\n",
    "\n",
    "    pathFound = False\n",
    "    resState = None\n",
    "    \n",
    "    if StateIsGoal(state):\n",
    "        pathFound = True\n",
    "        resState = state\n",
    "        return (pathFound, resState)\n",
    "    \n",
    "    successors = GetSuccessors(state)\n",
    "    for s in successors:\n",
    "        s.parent = state\n",
    "        pathFound, resState = DFS(s)\n",
    "        if pathFound:\n",
    "            break\n",
    "        \n",
    "    return (pathFound, resState)\n"
   ]
  },
  {
   "cell_type": "markdown",
   "metadata": {},
   "source": [
    "Using DFS, you will most likely encounter the fact that this algorithm overcomes the threshold of recursive calls, after which the execution will interrupted. "
   ]
  },
  {
   "cell_type": "code",
   "execution_count": 18,
   "metadata": {
    "ExecuteTime": {
     "end_time": "2021-02-17T10:12:14.136088Z",
     "start_time": "2021-02-17T10:12:08.666443Z"
    },
    "tags": []
   },
   "outputs": [
    {
     "name": "stdout",
     "output_type": "stream",
     "text": [
      "Execution error\n",
      "maximum recursion depth exceeded while calling a Python object\n"
     ]
    }
   ],
   "source": [
    "SimpleTest(DFS)"
   ]
  },
  {
   "cell_type": "markdown",
   "metadata": {},
   "source": [
    "But you can create such a simple task, which can be solved by DFS"
   ]
  },
  {
   "cell_type": "code",
   "execution_count": 19,
   "metadata": {
    "ExecuteTime": {
     "end_time": "2021-02-17T10:12:14.166233Z",
     "start_time": "2021-02-17T10:12:14.158542Z"
    }
   },
   "outputs": [],
   "source": [
    "def DFSSimpleTest(SearchFunction, *args):\n",
    "    # Insert the task that can be solved by a DFS solver\n",
    "    YourTileList = [1, 4, 3, 2]\n",
    "    \n",
    "    startState = GemPuzzleState(YourTileList)\n",
    "    try:\n",
    "        result = SearchFunction(startState, *args)\n",
    "        curr = result[1]\n",
    "        if(result[0]):\n",
    "            if(CheckPath(curr)):\n",
    "                print(\"Path is OK!\")\n",
    "                path = GetPath(result[1])\n",
    "\n",
    "                while len(path) != 0:\n",
    "                    s = path.pop()\n",
    "                    s.Print()\n",
    "            else:\n",
    "                print(\"Path is not OK(\")\n",
    "        else:\n",
    "            print(\"Path not found(\")\n",
    "    except Exception as e:\n",
    "        print(\"Execution error\")\n",
    "        print(e)"
   ]
  },
  {
   "cell_type": "code",
   "execution_count": 20,
   "metadata": {
    "ExecuteTime": {
     "end_time": "2021-02-17T10:12:14.200257Z",
     "start_time": "2021-02-17T10:12:14.193351Z"
    },
    "tags": []
   },
   "outputs": [
    {
     "name": "stdout",
     "output_type": "stream",
     "text": [
      "Path is OK!\n",
      "\n",
      "1 _ \n",
      "3 2 \n",
      "\n",
      "1 2 \n",
      "3 _ \n"
     ]
    }
   ],
   "source": [
    "DFSSimpleTest(DFS)"
   ]
  },
  {
   "cell_type": "code",
   "execution_count": null,
   "metadata": {
    "tags": []
   },
   "outputs": [],
   "source": [
    "# There is no need to start MassiveTest\n",
    "#MassiveTest(DFS)"
   ]
  },
  {
   "cell_type": "markdown",
   "metadata": {},
   "source": [
    "## Depth First Search with Limited Depth\n",
    "One of the way to solve problem of overcoming the threshold of recursive calls is explicitly limit the to depth of the search tree by passing an appropriate parameter `limit` to the search algorithm. The second parameter `depth` is a technical one needed for the implementation. It represents the current depth of the search. Initially (when invoked on the start state of the problem) it is, indeed, equal to 0."
   ]
  },
  {
   "cell_type": "code",
   "execution_count": 21,
   "metadata": {
    "ExecuteTime": {
     "end_time": "2021-02-17T10:12:21.449507Z",
     "start_time": "2021-02-17T10:12:21.436746Z"
    }
   },
   "outputs": [],
   "source": [
    "# TODO Implementation of Depth-Limited Search algorithm\n",
    "\n",
    "# def DFSL(start, limit):\n",
    "\n",
    "#     #CODE HERE\n",
    "#     stack = []\n",
    "#     depth = 0\n",
    "#     stack.append(start)\n",
    "    \n",
    "#     while stack and depth < limit:\n",
    "#         depth += 1\n",
    "#         state = stack.pop()\n",
    "        \n",
    "#         if StateIsGoal(state):\n",
    "#             return (True, state)\n",
    "        \n",
    "#         for successor in reversed(GetSuccessors(state)):\n",
    "#             successor.parent = state\n",
    "#             stack.append(successor)\n",
    "                \n",
    "#     return (False, None)\n",
    "\n",
    "def DFSL(state, limit, depth):\n",
    "    \n",
    "    pathFound = False\n",
    "    resState = None\n",
    "    \n",
    "    if StateIsGoal(state):\n",
    "        return (True, state)\n",
    "    \n",
    "    if depth < limit:\n",
    "        for successor in GetSuccessors(state):\n",
    "            successor.parent = state\n",
    "            pathFound, resState = DFSL(successor, limit, depth + 1)\n",
    "            if pathFound:\n",
    "                return (pathFound, resState)\n",
    "\n",
    "    return (pathFound, resState)"
   ]
  },
  {
   "cell_type": "markdown",
   "metadata": {},
   "source": [
    "Let's check this approach with several different limits"
   ]
  },
  {
   "cell_type": "code",
   "execution_count": 22,
   "metadata": {
    "ExecuteTime": {
     "end_time": "2021-02-17T10:12:23.206937Z",
     "start_time": "2021-02-17T10:12:23.196623Z"
    },
    "tags": []
   },
   "outputs": [
    {
     "name": "stdout",
     "output_type": "stream",
     "text": [
      "Path not found(\n"
     ]
    }
   ],
   "source": [
    "SimpleTest(DFSL, 3, 0)"
   ]
  },
  {
   "cell_type": "code",
   "execution_count": 23,
   "metadata": {
    "ExecuteTime": {
     "end_time": "2021-02-17T10:12:23.882854Z",
     "start_time": "2021-02-17T10:12:23.863272Z"
    },
    "tags": []
   },
   "outputs": [
    {
     "name": "stdout",
     "output_type": "stream",
     "text": [
      "Path is OK!\n",
      "\n",
      "3 1 \n",
      "2 _ \n",
      "\n",
      "3 1 \n",
      "_ 2 \n",
      "\n",
      "_ 1 \n",
      "3 2 \n",
      "\n",
      "1 _ \n",
      "3 2 \n",
      "\n",
      "1 2 \n",
      "3 _ \n"
     ]
    }
   ],
   "source": [
    "SimpleTest(DFSL, 5, 0)"
   ]
  },
  {
   "cell_type": "code",
   "execution_count": 24,
   "metadata": {
    "ExecuteTime": {
     "end_time": "2021-02-17T10:12:24.746934Z",
     "start_time": "2021-02-17T10:12:24.719073Z"
    },
    "tags": []
   },
   "outputs": [
    {
     "name": "stdout",
     "output_type": "stream",
     "text": [
      "Path is OK!\n",
      "\n",
      "3 1 \n",
      "2 _ \n",
      "\n",
      "3 1 \n",
      "_ 2 \n",
      "\n",
      "3 1 \n",
      "2 _ \n",
      "\n",
      "3 1 \n",
      "_ 2 \n",
      "\n",
      "3 1 \n",
      "2 _ \n",
      "\n",
      "3 1 \n",
      "_ 2 \n",
      "\n",
      "3 1 \n",
      "2 _ \n",
      "\n",
      "3 1 \n",
      "_ 2 \n",
      "\n",
      "_ 1 \n",
      "3 2 \n",
      "\n",
      "1 _ \n",
      "3 2 \n",
      "\n",
      "1 2 \n",
      "3 _ \n"
     ]
    }
   ],
   "source": [
    "SimpleTest(DFSL, 10, 0)"
   ]
  },
  {
   "cell_type": "code",
   "execution_count": 25,
   "metadata": {
    "ExecuteTime": {
     "end_time": "2021-02-17T10:12:25.838842Z",
     "start_time": "2021-02-17T10:12:25.825067Z"
    },
    "tags": []
   },
   "outputs": [
    {
     "name": "stdout",
     "output_type": "stream",
     "text": [
      "1 Path not found(\n",
      "2 Path not found(\n",
      "3 Path is OK!\n",
      "4 Path is OK!\n",
      "5 Path is OK!\n",
      "6 Path not found(\n",
      "7 Path not found(\n",
      "8 Path not found(\n"
     ]
    }
   ],
   "source": [
    "MassiveTest(DFSL, 3, 0)"
   ]
  },
  {
   "cell_type": "code",
   "execution_count": 26,
   "metadata": {
    "ExecuteTime": {
     "end_time": "2021-02-17T10:12:26.378406Z",
     "start_time": "2021-02-17T10:12:26.248879Z"
    },
    "tags": []
   },
   "outputs": [
    {
     "name": "stdout",
     "output_type": "stream",
     "text": [
      "1 Path is OK!\n",
      "2 Path is OK!\n",
      "3 Path is OK!\n",
      "4 Path is OK!\n",
      "5 Path is OK!\n",
      "6 Path is OK!\n",
      "7 Path is OK!\n",
      "8 Path not found(\n"
     ]
    }
   ],
   "source": [
    "MassiveTest(DFSL, 5, 0)"
   ]
  },
  {
   "cell_type": "code",
   "execution_count": 27,
   "metadata": {
    "ExecuteTime": {
     "end_time": "2021-02-17T10:12:29.633596Z",
     "start_time": "2021-02-17T10:12:28.896978Z"
    },
    "tags": []
   },
   "outputs": [
    {
     "name": "stdout",
     "output_type": "stream",
     "text": [
      "1 Path is OK!\n",
      "2 Path is OK!\n",
      "3 Path is OK!\n",
      "4 Path is OK!\n",
      "5 Path is OK!\n",
      "6 Path is OK!\n",
      "7 Path is OK!\n",
      "8 Path is OK!\n"
     ]
    }
   ],
   "source": [
    "MassiveTest(DFSL, 10, 0)"
   ]
  },
  {
   "cell_type": "markdown",
   "metadata": {},
   "source": [
    "## Depth First Iterative Deepening Search (DFID)\n",
    "Finally let's sequentially invoke DFS with increasing depth limits. This is called the Depth First Iterative Deepening algorithm. It will inded find a solution if one exists."
   ]
  },
  {
   "cell_type": "code",
   "execution_count": 28,
   "metadata": {
    "ExecuteTime": {
     "end_time": "2021-02-17T10:12:34.027267Z",
     "start_time": "2021-02-17T10:12:34.010701Z"
    }
   },
   "outputs": [],
   "source": [
    "# TODO Implementation of Iterative-Deepening Depth-First Search\n",
    "def DFID(state):\n",
    "    iteration = 1\n",
    "    pathFound, resState = DFSL(state, iteration, 0)\n",
    "    \n",
    "    while not pathFound:\n",
    "        iteration += 1\n",
    "        pathFound, resState = DFSL(state, iteration, 0)\n",
    "        \n",
    "    return (pathFound, resState)\n",
    "    \n",
    "    #replace return (False, None) with an appropriate code"
   ]
  },
  {
   "cell_type": "code",
   "execution_count": 29,
   "metadata": {
    "ExecuteTime": {
     "end_time": "2021-02-17T10:12:34.525946Z",
     "start_time": "2021-02-17T10:12:34.514566Z"
    },
    "tags": []
   },
   "outputs": [
    {
     "name": "stdout",
     "output_type": "stream",
     "text": [
      "Path is OK!\n",
      "\n",
      "3 1 \n",
      "2 _ \n",
      "\n",
      "3 1 \n",
      "_ 2 \n",
      "\n",
      "_ 1 \n",
      "3 2 \n",
      "\n",
      "1 _ \n",
      "3 2 \n",
      "\n",
      "1 2 \n",
      "3 _ \n"
     ]
    }
   ],
   "source": [
    "SimpleTest(DFID)"
   ]
  },
  {
   "cell_type": "code",
   "execution_count": 30,
   "metadata": {
    "ExecuteTime": {
     "end_time": "2021-02-17T10:12:37.121446Z",
     "start_time": "2021-02-17T10:12:36.820288Z"
    },
    "tags": []
   },
   "outputs": [
    {
     "name": "stdout",
     "output_type": "stream",
     "text": [
      "1 Path is OK!\n",
      "2 Path is OK!\n",
      "3 Path is OK!\n",
      "4 Path is OK!\n",
      "5 Path is OK!\n",
      "6 Path is OK!\n",
      "7 Path is OK!\n",
      "8 Path is OK!\n"
     ]
    }
   ],
   "source": [
    "MassiveTest(DFID)"
   ]
  },
  {
   "cell_type": "markdown",
   "metadata": {},
   "source": [
    "## Pancake Sorting"
   ]
  },
  {
   "cell_type": "markdown",
   "metadata": {
    "tags": []
   },
   "source": [
    "![Example](Image/Cat.jpg)"
   ]
  },
  {
   "cell_type": "markdown",
   "metadata": {},
   "source": [
    "Pancake sorting is the colloquial term for the mathematical problem of sorting a disordered stack of pancakes in order of size when a spatula can be inserted at any point in the stack and used to flip all pancakes above it (See picture below) [[Wikipedia](https://en.wikipedia.org/wiki/Pancake_sorting)]."
   ]
  },
  {
   "cell_type": "markdown",
   "metadata": {
    "tags": []
   },
   "source": [
    "![Example](Image/Pancake.png)"
   ]
  },
  {
   "cell_type": "markdown",
   "metadata": {},
   "source": [
    "### Representation of a state\n",
    "In this task you should create your own implementation of pancake sorting problem state (and all related funtions) with your own test data. Note, that the interface of the state-class must be the same as for the `GemPuzzleState` thus all the machinery introduced before (e.g. automated tests) will work out-of-the-box. "
   ]
  },
  {
   "cell_type": "code",
   "execution_count": 78,
   "metadata": {
    "ExecuteTime": {
     "end_time": "2021-02-17T10:38:22.390699Z",
     "start_time": "2021-02-17T10:38:22.380405Z"
    }
   },
   "outputs": [],
   "source": [
    "class PancakeDish:\n",
    "    # Constructor\n",
    "    def __init__(self, pancakes):\n",
    "        # TODO\n",
    "        self.pancake_list = pancakes\n",
    "        self.parent = None\n",
    "       \n",
    "    # Compare with other state. Using for path checking\n",
    "    def __eq__(self, other):\n",
    "        for self_pancake, other_pancake in zip(self.pancake_list, other.pancake_list):\n",
    "            if self_pancake != other_pancake:\n",
    "                return False\n",
    "        return True\n",
    "        # TODO\n",
    "        # return True\n",
    "\n",
    "    def __repr__(self):\n",
    "        return '.' * max( self.pancake_list) + \"\\n\" +\\\n",
    "               '\\n'.join(['_' * pancake for pancake in self.pancake_list]) +\\\n",
    "               '\\n' +'.' * max( self.pancake_list) \n",
    "    \n",
    "    # Prints state in form of tile matrix\n",
    "    def Print(self):\n",
    "        # TODO\n",
    "        print(self.__repr__())\n",
    "\n"
   ]
  },
  {
   "cell_type": "code",
   "execution_count": 79,
   "metadata": {
    "ExecuteTime": {
     "end_time": "2021-02-17T10:38:22.683768Z",
     "start_time": "2021-02-17T10:38:22.674053Z"
    }
   },
   "outputs": [],
   "source": [
    "def GetSuccessors(state):\n",
    "    # TODO\n",
    "    # successors = []\n",
    "    successors = []\n",
    "    for i in range(len(state.pancake_list)):\n",
    "        new_state = copy.deepcopy(state)\n",
    "        new_state.pancake_list = state.pancake_list[i::-1] + state.pancake_list[i+1:]\n",
    "        new_state.parent = state\n",
    "        yield new_state\n",
    "    \n",
    "    # return successors"
   ]
  },
  {
   "cell_type": "code",
   "execution_count": 80,
   "metadata": {
    "ExecuteTime": {
     "end_time": "2021-02-17T10:38:22.968185Z",
     "start_time": "2021-02-17T10:38:22.964883Z"
    },
    "tags": []
   },
   "outputs": [],
   "source": [
    "def StateIsGoal(state):\n",
    "    for i in range(1, len(state.pancake_list)):\n",
    "        if(state.pancake_list[i-1] > state.pancake_list[i]):\n",
    "            return False\n",
    "    return True"
   ]
  },
  {
   "cell_type": "code",
   "execution_count": 81,
   "metadata": {
    "ExecuteTime": {
     "end_time": "2021-02-17T10:38:23.201975Z",
     "start_time": "2021-02-17T10:38:23.188573Z"
    }
   },
   "outputs": [],
   "source": [
    "def SimpleTest(SearchFunction, *args):\n",
    "    startState = PancakeDish([3, 2, 1, 4])\n",
    "    try:\n",
    "        result = SearchFunction(startState, *args)\n",
    "        curr = result[1]\n",
    "        if(result[0]):\n",
    "            if(CheckPath(curr)):\n",
    "                print(\"Path is OK!\")\n",
    "\n",
    "                stack = []\n",
    "                curr = result[1]\n",
    "                while curr is not None:\n",
    "                    stack.append(curr)\n",
    "                    curr = curr.parent\n",
    "\n",
    "                while len(stack) != 0:\n",
    "                    s = stack.pop()\n",
    "                    s.Print()\n",
    "            else:\n",
    "                print(\"Path is not OK(\")\n",
    "        else:\n",
    "            print(\"Path not found(\")\n",
    "    except Exception as e:\n",
    "        print(\"Execution error\")\n",
    "        print(e)"
   ]
  },
  {
   "cell_type": "code",
   "execution_count": 131,
   "metadata": {
    "ExecuteTime": {
     "end_time": "2021-02-17T11:59:18.649473Z",
     "start_time": "2021-02-17T11:59:18.639123Z"
    }
   },
   "outputs": [],
   "source": [
    "test_cases = [\n",
    "              '1 2 3 4 5',\n",
    "              '3 4 5 2 1',\n",
    "              '2 3 4 5 1',\n",
    "              '2 1 5 4 3',\n",
    "              '5 3 1 4 2',\n",
    "              '3 5 2 1 7 6 4',\n",
    "              '2 1 7 6 4 3 5',\n",
    "              '7 6 5 2 1 3 4'\n",
    "]\n",
    "\n",
    "with open('Data/tasksPancakes.txt', 'w') as file:\n",
    "    for line in test_cases:\n",
    "        file.write(line + '\\n')    "
   ]
  },
  {
   "cell_type": "code",
   "execution_count": 113,
   "metadata": {
    "ExecuteTime": {
     "end_time": "2021-02-17T11:27:38.606513Z",
     "start_time": "2021-02-17T11:27:38.593446Z"
    }
   },
   "outputs": [],
   "source": [
    "def MassiveTest(SearchFunction, *args):\n",
    "    # TODO your file with at least 8 different tasks\n",
    "    tasksFile = open('Data/tasksPancakes.txt')\n",
    "    count = 0\n",
    "    for l in tasksFile:\n",
    "        count += 1\n",
    "        state = list(map(int, l.split()))\n",
    "        task = PancakeDish(state)\n",
    "        try:\n",
    "            result = SearchFunction(task, *args)\n",
    "            curr = result[1]\n",
    "            if(result[0]):\n",
    "                if(CheckPath(curr)):\n",
    "                    print(count, \"Path is OK!\")\n",
    "                else:\n",
    "                    print(count, \"Path is not OK(\")\n",
    "            else:\n",
    "                print(count, \"Path not found(\")\n",
    "        except Exception as e:\n",
    "            print(count, \"Execution error\")\n",
    "            print(e)"
   ]
  },
  {
   "cell_type": "markdown",
   "metadata": {},
   "source": [
    "## Lets check!"
   ]
  },
  {
   "cell_type": "code",
   "execution_count": 98,
   "metadata": {
    "ExecuteTime": {
     "end_time": "2021-02-17T11:20:33.683927Z",
     "start_time": "2021-02-17T11:20:33.677978Z"
    },
    "tags": []
   },
   "outputs": [
    {
     "name": "stdout",
     "output_type": "stream",
     "text": [
      "Path is OK!\n",
      "....\n",
      "___\n",
      "__\n",
      "_\n",
      "____\n",
      "....\n",
      "....\n",
      "_\n",
      "__\n",
      "___\n",
      "____\n",
      "....\n"
     ]
    }
   ],
   "source": [
    "SimpleTest(BFS)"
   ]
  },
  {
   "cell_type": "code",
   "execution_count": 132,
   "metadata": {
    "ExecuteTime": {
     "end_time": "2021-02-17T12:00:08.758871Z",
     "start_time": "2021-02-17T11:59:21.006119Z"
    },
    "tags": []
   },
   "outputs": [
    {
     "name": "stdout",
     "output_type": "stream",
     "text": [
      "1 Path is OK!\n",
      "2 Path is OK!\n",
      "3 Path is OK!\n",
      "4 Path is OK!\n",
      "5 Path is OK!\n",
      "6 Path is OK!\n",
      "7 Path is OK!\n",
      "8 Path is OK!\n"
     ]
    }
   ],
   "source": [
    "MassiveTest(BFS)"
   ]
  },
  {
   "cell_type": "code",
   "execution_count": 100,
   "metadata": {
    "ExecuteTime": {
     "end_time": "2021-02-17T11:20:38.064290Z",
     "start_time": "2021-02-17T11:20:35.774867Z"
    },
    "tags": []
   },
   "outputs": [
    {
     "name": "stdout",
     "output_type": "stream",
     "text": [
      "Execution error\n",
      "maximum recursion depth exceeded while calling a Python object\n"
     ]
    }
   ],
   "source": [
    "SimpleTest(DFS)"
   ]
  },
  {
   "cell_type": "code",
   "execution_count": null,
   "metadata": {
    "tags": []
   },
   "outputs": [],
   "source": [
    "#MassiveTest(DFS)"
   ]
  },
  {
   "cell_type": "code",
   "execution_count": 101,
   "metadata": {
    "ExecuteTime": {
     "end_time": "2021-02-17T11:20:40.202555Z",
     "start_time": "2021-02-17T11:20:40.168873Z"
    },
    "tags": []
   },
   "outputs": [
    {
     "name": "stdout",
     "output_type": "stream",
     "text": [
      "Path is OK!\n",
      "....\n",
      "___\n",
      "__\n",
      "_\n",
      "____\n",
      "....\n",
      "....\n",
      "___\n",
      "__\n",
      "_\n",
      "____\n",
      "....\n",
      "....\n",
      "_\n",
      "__\n",
      "___\n",
      "____\n",
      "....\n",
      "Path is OK!\n",
      "....\n",
      "___\n",
      "__\n",
      "_\n",
      "____\n",
      "....\n",
      "....\n",
      "___\n",
      "__\n",
      "_\n",
      "____\n",
      "....\n",
      "....\n",
      "___\n",
      "__\n",
      "_\n",
      "____\n",
      "....\n",
      "....\n",
      "___\n",
      "__\n",
      "_\n",
      "____\n",
      "....\n",
      "....\n",
      "___\n",
      "__\n",
      "_\n",
      "____\n",
      "....\n",
      "....\n",
      "_\n",
      "__\n",
      "___\n",
      "____\n",
      "....\n",
      "Path is OK!\n",
      "....\n",
      "___\n",
      "__\n",
      "_\n",
      "____\n",
      "....\n",
      "....\n",
      "___\n",
      "__\n",
      "_\n",
      "____\n",
      "....\n",
      "....\n",
      "___\n",
      "__\n",
      "_\n",
      "____\n",
      "....\n",
      "....\n",
      "___\n",
      "__\n",
      "_\n",
      "____\n",
      "....\n",
      "....\n",
      "___\n",
      "__\n",
      "_\n",
      "____\n",
      "....\n",
      "....\n",
      "___\n",
      "__\n",
      "_\n",
      "____\n",
      "....\n",
      "....\n",
      "___\n",
      "__\n",
      "_\n",
      "____\n",
      "....\n",
      "....\n",
      "___\n",
      "__\n",
      "_\n",
      "____\n",
      "....\n",
      "....\n",
      "___\n",
      "__\n",
      "_\n",
      "____\n",
      "....\n",
      "....\n",
      "___\n",
      "__\n",
      "_\n",
      "____\n",
      "....\n",
      "....\n",
      "_\n",
      "__\n",
      "___\n",
      "____\n",
      "....\n"
     ]
    }
   ],
   "source": [
    "SimpleTest(DFSL, 2, 0)\n",
    "SimpleTest(DFSL, 5, 0)\n",
    "SimpleTest(DFSL, 10, 0)\n"
   ]
  },
  {
   "cell_type": "code",
   "execution_count": 133,
   "metadata": {
    "ExecuteTime": {
     "end_time": "2021-02-17T12:00:22.989955Z",
     "start_time": "2021-02-17T12:00:22.969857Z"
    },
    "tags": []
   },
   "outputs": [
    {
     "name": "stdout",
     "output_type": "stream",
     "text": [
      "1 Path is OK!\n",
      "2 Path is OK!\n",
      "3 Path is OK!\n",
      "4 Path not found(\n",
      "5 Path not found(\n",
      "6 Path not found(\n",
      "7 Path not found(\n",
      "8 Path not found(\n"
     ]
    }
   ],
   "source": [
    "MassiveTest(DFSL, 2, 0)"
   ]
  },
  {
   "cell_type": "code",
   "execution_count": 134,
   "metadata": {
    "ExecuteTime": {
     "end_time": "2021-02-17T12:00:27.426562Z",
     "start_time": "2021-02-17T12:00:24.996113Z"
    },
    "tags": []
   },
   "outputs": [
    {
     "name": "stdout",
     "output_type": "stream",
     "text": [
      "1 Path is OK!\n",
      "2 Path is OK!\n",
      "3 Path is OK!\n",
      "4 Path is OK!\n",
      "5 Path is OK!\n",
      "6 Path not found(\n",
      "7 Path not found(\n",
      "8 Path is OK!\n"
     ]
    }
   ],
   "source": [
    "MassiveTest(DFSL, 5, 0)"
   ]
  },
  {
   "cell_type": "code",
   "execution_count": 135,
   "metadata": {
    "ExecuteTime": {
     "end_time": "2021-02-17T12:00:39.527599Z",
     "start_time": "2021-02-17T12:00:31.263911Z"
    },
    "tags": []
   },
   "outputs": [
    {
     "name": "stdout",
     "output_type": "stream",
     "text": [
      "1 Path is OK!\n",
      "2 Path is OK!\n",
      "3 Path is OK!\n",
      "4 Path is OK!\n",
      "5 Path is OK!\n",
      "6 Path is OK!\n",
      "7 Path is OK!\n",
      "8 Path is OK!\n"
     ]
    }
   ],
   "source": [
    "MassiveTest(DFSL, 10, 0)"
   ]
  },
  {
   "cell_type": "code",
   "execution_count": 105,
   "metadata": {
    "ExecuteTime": {
     "end_time": "2021-02-17T11:20:48.252465Z",
     "start_time": "2021-02-17T11:20:48.247474Z"
    },
    "tags": []
   },
   "outputs": [
    {
     "name": "stdout",
     "output_type": "stream",
     "text": [
      "Path is OK!\n",
      "....\n",
      "___\n",
      "__\n",
      "_\n",
      "____\n",
      "....\n",
      "....\n",
      "_\n",
      "__\n",
      "___\n",
      "____\n",
      "....\n"
     ]
    }
   ],
   "source": [
    "SimpleTest(DFID)"
   ]
  },
  {
   "cell_type": "code",
   "execution_count": 136,
   "metadata": {
    "ExecuteTime": {
     "end_time": "2021-02-17T12:00:57.051913Z",
     "start_time": "2021-02-17T12:00:50.239120Z"
    },
    "tags": []
   },
   "outputs": [
    {
     "name": "stdout",
     "output_type": "stream",
     "text": [
      "1 Path is OK!\n",
      "2 Path is OK!\n",
      "3 Path is OK!\n",
      "4 Path is OK!\n",
      "5 Path is OK!\n",
      "6 Path is OK!\n",
      "7 Path is OK!\n",
      "8 Path is OK!\n"
     ]
    }
   ],
   "source": [
    "MassiveTest(DFID)"
   ]
  },
  {
   "cell_type": "markdown",
   "metadata": {},
   "source": [
    "## References\n",
    "1. https://cs.lmu.edu/~ray/notes/usearch/\n",
    "2. https://lanwuwei.github.io/courses/SP19/3521_slides/4-Informed-Search_1.pdf"
   ]
  }
 ],
 "metadata": {
  "kernelspec": {
   "display_name": "mipt-stats",
   "language": "python",
   "name": "mipt-stats"
  },
  "language_info": {
   "codemirror_mode": {
    "name": "ipython",
    "version": 3
   },
   "file_extension": ".py",
   "mimetype": "text/x-python",
   "name": "python",
   "nbconvert_exporter": "python",
   "pygments_lexer": "ipython3",
   "version": "3.7.8"
  },
  "varInspector": {
   "cols": {
    "lenName": 16,
    "lenType": 16,
    "lenVar": 40
   },
   "kernels_config": {
    "python": {
     "delete_cmd_postfix": "",
     "delete_cmd_prefix": "del ",
     "library": "var_list.py",
     "varRefreshCmd": "print(var_dic_list())"
    },
    "r": {
     "delete_cmd_postfix": ") ",
     "delete_cmd_prefix": "rm(",
     "library": "var_list.r",
     "varRefreshCmd": "cat(var_dic_list()) "
    }
   },
   "types_to_exclude": [
    "module",
    "function",
    "builtin_function_or_method",
    "instance",
    "_Feature"
   ],
   "window_display": false
  }
 },
 "nbformat": 4,
 "nbformat_minor": 2
}
